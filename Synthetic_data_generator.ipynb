{
  "nbformat": 4,
  "nbformat_minor": 0,
  "metadata": {
    "colab": {
      "provenance": []
    },
    "kernelspec": {
      "name": "python3",
      "display_name": "Python 3"
    },
    "language_info": {
      "name": "python"
    }
  },
  "cells": [
    {
      "cell_type": "code",
      "execution_count": 15,
      "metadata": {
        "colab": {
          "base_uri": "https://localhost:8080/"
        },
        "id": "yZjH8fYS7bvB",
        "outputId": "96ba0f69-f140-4b57-f0b5-78379410ae85"
      },
      "outputs": [
        {
          "output_type": "stream",
          "name": "stdout",
          "text": [
            "Synthetic dataset with random timestamps created and saved as 'synthetic_vehicle_data_with_random_timestamp.csv'.\n"
          ]
        }
      ],
      "source": [
        "import pandas as pd\n",
        "import numpy as np\n",
        "import random\n",
        "from datetime import datetime, timedelta\n",
        "\n",
        "# Set random seed for reproducibility\n",
        "np.random.seed(42)\n",
        "\n",
        "# Number of vehicles and number of events\n",
        "n_vehicles = 1000\n",
        "n_events = 43200  # 30 days * 24 hours * 60 minutes\n",
        "\n",
        "# Generate random vehicle IDs\n",
        "vehicle_ids = [f\"V{str(i).zfill(4)}\" for i in range(1, n_vehicles + 1)]\n",
        "\n",
        "# Starting timestamp\n",
        "start_time = datetime(2025, 1, 1)\n",
        "\n",
        "# Create a list to store the event data\n",
        "data = []\n",
        "\n",
        "# Create random timestamps spaced out by varying time deltas\n",
        "previous_timestamp = start_time\n",
        "for _ in range(n_events):\n",
        "    # Generate a random time delta between 1 and 5 minutes\n",
        "    time_delta = timedelta(minutes=random.randint(1, 5))\n",
        "    timestamp = previous_timestamp + time_delta\n",
        "    previous_timestamp = timestamp  # Update the previous timestamp for the next event\n",
        "\n",
        "    # Generate other parameters\n",
        "    vehicle_id = random.choice(vehicle_ids)\n",
        "    fuel_level = round(random.uniform(10, 100), 2)  # Fuel level between 10 and 100\n",
        "    latitude = round(random.uniform(35.0, 37.0), 6)  # Latitude between 35.0 and 37.0\n",
        "    longitude = round(random.uniform(-80.0, -77.0), 6)  # Longitude between -80.0 and -77.0\n",
        "    speed = round(random.uniform(0, 120), 2)  # Speed between 0 and 120 km/h\n",
        "    engine_load = round(random.uniform(0, 100), 2)  # Engine load between 0 and 100\n",
        "    rpm = round(random.uniform(1000, 4000), 2)  # Engine RPM between 1000 and 4000\n",
        "    brake_usage = round(random.uniform(0, 100), 2)  # Brake usage between 0% and 100%\n",
        "    mileage = round(random.uniform(0, 300), 2)  # Distance covered since last event\n",
        "    temperature = round(random.uniform(15, 35), 2)  # Ambient temperature between 15°C and 35°C\n",
        "    acceleration = round(random.uniform(0, 5), 2)  # Acceleration between 0 and 5 m/s²\n",
        "    battery_voltage = round(random.uniform(11, 15), 2)  # Battery voltage between 11V and 15V\n",
        "    tire_pressure = round(random.uniform(28, 35), 2)  # Tire pressure between 28 PSI and 35 PSI\n",
        "    odometer_reading = round(random.uniform(10000, 500000), 2)  # Odometer reading (vehicle distance)\n",
        "    fuel_consumed = round(random.uniform(0.1, 2), 2)  # Fuel consumed since last event\n",
        "    route_id = random.choice([\"R1\", \"R2\", \"R3\", \"R4\"])  # Route ID\n",
        "    weather_conditions = random.choice([\"Clear\", \"Rainy\", \"Snowy\", \"Foggy\", \"Windy\"])  # Weather condition\n",
        "    driver_id = random.choice([f\"D{str(i).zfill(3)}\" for i in range(1, 6)])  # Driver ID (D001, D002, ...)\n",
        "\n",
        "    # Append the generated data\n",
        "    data.append([f\"event_{timestamp.strftime('%Y%m%d%H%M%S')}\", timestamp, vehicle_id, fuel_level, latitude, longitude,\n",
        "                 speed, engine_load, rpm, brake_usage, mileage, temperature, acceleration, battery_voltage, tire_pressure,\n",
        "                 odometer_reading, fuel_consumed, route_id, weather_conditions, driver_id])\n",
        "\n",
        "# Create a DataFrame from the synthetic data\n",
        "df = pd.DataFrame(data, columns=[\"event_id\", \"timestamp\", \"vehicle_id\", \"fuel_level\", \"latitude\", \"longitude\",\n",
        "                                 \"speed\", \"engine_load\", \"rpm\", \"brake_usage\", \"mileage\", \"temperature\", \"acceleration\",\n",
        "                                 \"battery_voltage\", \"tire_pressure\", \"odometer_reading\", \"fuel_consumed\", \"route_id\",\n",
        "                                 \"weather_conditions\", \"driver_id\"])\n",
        "\n",
        "# Save the generated dataset to a CSV file\n",
        "df.to_csv(\"synthetic_vehicle_data_with_random_timestamp.csv\", index=False)\n",
        "\n",
        "print(\"Synthetic dataset with random timestamps created and saved as 'synthetic_vehicle_data_with_random_timestamp.csv'.\")\n"
      ]
    },
    {
      "cell_type": "code",
      "source": [],
      "metadata": {
        "id": "Toql4BWv7gDB"
      },
      "execution_count": null,
      "outputs": []
    }
  ]
}